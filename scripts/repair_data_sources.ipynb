{
 "cells": [
  {
   "cell_type": "code",
   "execution_count": null,
   "metadata": {},
   "outputs": [],
   "source": [
    "import arcpy,os"
   ]
  },
  {
   "cell_type": "code",
   "execution_count": null,
   "metadata": {},
   "outputs": [],
   "source": [
    "folderPath = r\"C:\\Users\\GIORGIO.CAIZZI\\AECOM\\60678625ER Marghera - AdR VP e NP - 09_Temp\\00 - GIS\\02b - Altre tavole\\01 - Carte Rischio\\NP\\Scenario 1\"\n",
    "\n",
    "\n",
    "old_gdb_path = r\"C:\\Users\\GIORGIO.CAIZZI\\AECOM\\60678625ER Marghera - AdR VP e NP - 09_Temp\\00 - GIS\\02b - Altre tavole\\01 - Carte Rischio\\NP_ADR_2021.gdb\"\n",
    "new_gdb_path = r\"C:\\Users\\GIORGIO.CAIZZI\\AECOM\\60678625ER Marghera - AdR VP e NP - 09_Temp\\00 - GIS\\00 - GeoDB\\NP_ADR_2021.gdb\""
   ]
  },
  {
   "cell_type": "code",
   "execution_count": null,
   "metadata": {},
   "outputs": [],
   "source": [
    "for filename in os.listdir(folderPath):\n",
    "    fullpath = os.path.join(folderPath, filename)\n",
    "    if os.path.isfile(fullpath):\n",
    "        basename, extension = os.path.splitext(fullpath)\n",
    "        if extension.lower() == \".mxd\":\n",
    "            filename=filename.decode(\"latin8\")\n",
    "            mxd = arcpy.mapping.MapDocument(fullpath)\n",
    "            mxd.findAndReplaceWorkspacePaths(\n",
    "                old_gdb_path,\n",
    "                new_gdb_path,\n",
    "                True\n",
    "            )\n",
    "            mxd.save()\n",
    "            print(filename)\n",
    "            del mxd"
   ]
  }
 ],
 "metadata": {
  "kernelspec": {
   "display_name": "Python 3",
   "language": "python",
   "name": "python3"
  },
  "language_info": {
   "codemirror_mode": {
    "name": "ipython",
    "version": 2
   },
   "file_extension": ".py",
   "mimetype": "text/x-python",
   "name": "python",
   "nbconvert_exporter": "python",
   "pygments_lexer": "ipython2",
   "version": "2.7.18"
  },
  "orig_nbformat": 4
 },
 "nbformat": 4,
 "nbformat_minor": 2
}
