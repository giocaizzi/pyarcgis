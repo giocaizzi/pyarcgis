{
 "cells": [
  {
   "cell_type": "markdown",
   "metadata": {},
   "source": [
    "## Project\n",
    "\n",
    "The project in ArcMap is intended as a folder where data (geodatabase) and maps are stored."
   ]
  },
  {
   "cell_type": "code",
   "execution_count": 2,
   "metadata": {},
   "outputs": [],
   "source": [
    "from pyarcgis.core import Project"
   ]
  },
  {
   "cell_type": "code",
   "execution_count": 3,
   "metadata": {},
   "outputs": [],
   "source": [
    "root = r\"C:\\Users\\GIORGIO.CAIZZI\\AECOM\\60717510ER1 TAVGIS Portomarghera - 09_Temp\\0 - GIS\"\n",
    "p = Project(\n",
    "    root\n",
    "    )"
   ]
  },
  {
   "cell_type": "code",
   "execution_count": 4,
   "metadata": {},
   "outputs": [
    {
     "data": {
      "text/plain": [
       "['C:\\\\Users\\\\GIORGIO.CAIZZI\\\\AECOM\\\\60717510ER1 TAVGIS Portomarghera - 09_Temp\\\\0 - GIS\\\\NP - Lotto AI.mxd',\n",
       " 'C:\\\\Users\\\\GIORGIO.CAIZZI\\\\AECOM\\\\60717510ER1 TAVGIS Portomarghera - 09_Temp\\\\0 - GIS\\\\NP - Lotto AS.mxd',\n",
       " 'C:\\\\Users\\\\GIORGIO.CAIZZI\\\\AECOM\\\\60717510ER1 TAVGIS Portomarghera - 09_Temp\\\\0 - GIS\\\\NP - Lotto CPL.mxd',\n",
       " 'C:\\\\Users\\\\GIORGIO.CAIZZI\\\\AECOM\\\\60717510ER1 TAVGIS Portomarghera - 09_Temp\\\\0 - GIS\\\\NP - Lotto CTE.mxd',\n",
       " 'C:\\\\Users\\\\GIORGIO.CAIZZI\\\\AECOM\\\\60717510ER1 TAVGIS Portomarghera - 09_Temp\\\\0 - GIS\\\\NP - Lotto IMP.mxd',\n",
       " 'C:\\\\Users\\\\GIORGIO.CAIZZI\\\\AECOM\\\\60717510ER1 TAVGIS Portomarghera - 09_Temp\\\\0 - GIS\\\\NP - Lotto MAT.mxd',\n",
       " 'C:\\\\Users\\\\GIORGIO.CAIZZI\\\\AECOM\\\\60717510ER1 TAVGIS Portomarghera - 09_Temp\\\\0 - GIS\\\\NP - Lotto MT.mxd',\n",
       " 'C:\\\\Users\\\\GIORGIO.CAIZZI\\\\AECOM\\\\60717510ER1 TAVGIS Portomarghera - 09_Temp\\\\0 - GIS\\\\NP - Lotto PSS.mxd',\n",
       " 'C:\\\\Users\\\\GIORGIO.CAIZZI\\\\AECOM\\\\60717510ER1 TAVGIS Portomarghera - 09_Temp\\\\0 - GIS\\\\VP.mxd']"
      ]
     },
     "execution_count": 4,
     "metadata": {},
     "output_type": "execute_result"
    }
   ],
   "source": [
    "p.get_maps()"
   ]
  },
  {
   "cell_type": "code",
   "execution_count": 5,
   "metadata": {},
   "outputs": [
    {
     "data": {
      "text/plain": [
       "['C:\\\\Users\\\\GIORGIO.CAIZZI\\\\AECOM\\\\60717510ER1 TAVGIS Portomarghera - 09_Temp\\\\0 - GIS\\\\NP - Lotto AI.mxd',\n",
       " 'C:\\\\Users\\\\GIORGIO.CAIZZI\\\\AECOM\\\\60717510ER1 TAVGIS Portomarghera - 09_Temp\\\\0 - GIS\\\\NP - Lotto AS.mxd',\n",
       " 'C:\\\\Users\\\\GIORGIO.CAIZZI\\\\AECOM\\\\60717510ER1 TAVGIS Portomarghera - 09_Temp\\\\0 - GIS\\\\NP - Lotto CPL.mxd',\n",
       " 'C:\\\\Users\\\\GIORGIO.CAIZZI\\\\AECOM\\\\60717510ER1 TAVGIS Portomarghera - 09_Temp\\\\0 - GIS\\\\NP - Lotto CTE.mxd',\n",
       " 'C:\\\\Users\\\\GIORGIO.CAIZZI\\\\AECOM\\\\60717510ER1 TAVGIS Portomarghera - 09_Temp\\\\0 - GIS\\\\NP - Lotto IMP.mxd',\n",
       " 'C:\\\\Users\\\\GIORGIO.CAIZZI\\\\AECOM\\\\60717510ER1 TAVGIS Portomarghera - 09_Temp\\\\0 - GIS\\\\NP - Lotto MAT.mxd',\n",
       " 'C:\\\\Users\\\\GIORGIO.CAIZZI\\\\AECOM\\\\60717510ER1 TAVGIS Portomarghera - 09_Temp\\\\0 - GIS\\\\NP - Lotto MT.mxd',\n",
       " 'C:\\\\Users\\\\GIORGIO.CAIZZI\\\\AECOM\\\\60717510ER1 TAVGIS Portomarghera - 09_Temp\\\\0 - GIS\\\\NP - Lotto PSS.mxd']"
      ]
     },
     "execution_count": 5,
     "metadata": {},
     "output_type": "execute_result"
    }
   ],
   "source": [
    "p.get_maps(\"NP\")"
   ]
  },
  {
   "cell_type": "code",
   "execution_count": 6,
   "metadata": {},
   "outputs": [
    {
     "data": {
      "text/plain": [
       "['C:\\\\Users\\\\GIORGIO.CAIZZI\\\\AECOM\\\\60717510ER1 TAVGIS Portomarghera - 09_Temp\\\\0 - GIS\\\\NP - Lotto AI.mxd',\n",
       " 'C:\\\\Users\\\\GIORGIO.CAIZZI\\\\AECOM\\\\60717510ER1 TAVGIS Portomarghera - 09_Temp\\\\0 - GIS\\\\NP - Lotto AS.mxd',\n",
       " 'C:\\\\Users\\\\GIORGIO.CAIZZI\\\\AECOM\\\\60717510ER1 TAVGIS Portomarghera - 09_Temp\\\\0 - GIS\\\\NP - Lotto CPL.mxd',\n",
       " 'C:\\\\Users\\\\GIORGIO.CAIZZI\\\\AECOM\\\\60717510ER1 TAVGIS Portomarghera - 09_Temp\\\\0 - GIS\\\\NP - Lotto CTE.mxd']"
      ]
     },
     "execution_count": 6,
     "metadata": {},
     "output_type": "execute_result"
    }
   ],
   "source": [
    "p.get_maps([\"Lotto A\", \"Lotto C\"])"
   ]
  }
 ],
 "metadata": {
  "kernelspec": {
   "display_name": "aecom",
   "language": "python",
   "name": "python3"
  },
  "language_info": {
   "codemirror_mode": {
    "name": "ipython",
    "version": 2
   },
   "file_extension": ".py",
   "mimetype": "text/x-python",
   "name": "python",
   "nbconvert_exporter": "python",
   "pygments_lexer": "ipython2",
   "version": "2.7.18.4"
  }
 },
 "nbformat": 4,
 "nbformat_minor": 2
}
