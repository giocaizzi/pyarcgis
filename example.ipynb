{
 "cells": [
  {
   "cell_type": "markdown",
   "metadata": {},
   "source": [
    "## Project\n",
    "\n",
    "The project in ArcMap is intended as a folder where data (geodatabase) and maps are stored."
   ]
  },
  {
   "cell_type": "code",
   "execution_count": 8,
   "metadata": {},
   "outputs": [],
   "source": [
    "from pyarcgis.core import Project, Map\n",
    "\n",
    "import itertools"
   ]
  },
  {
   "cell_type": "code",
   "execution_count": 9,
   "metadata": {},
   "outputs": [],
   "source": [
    "root = r\"C:\\Users\\GIORGIO.CAIZZI\\AECOM\\60717510ER1 TAVGIS Portomarghera - 09_Temp\\0 - GIS\"\n",
    "p = Project(\n",
    "    root\n",
    "    )"
   ]
  },
  {
   "cell_type": "code",
   "execution_count": 10,
   "metadata": {},
   "outputs": [
    {
     "data": {
      "text/plain": [
       "['C:\\\\Users\\\\GIORGIO.CAIZZI\\\\AECOM\\\\60717510ER1 TAVGIS Portomarghera - 09_Temp\\\\0 - GIS\\\\NP - Lotto AI.mxd',\n",
       " 'C:\\\\Users\\\\GIORGIO.CAIZZI\\\\AECOM\\\\60717510ER1 TAVGIS Portomarghera - 09_Temp\\\\0 - GIS\\\\NP - Lotto AS.mxd',\n",
       " 'C:\\\\Users\\\\GIORGIO.CAIZZI\\\\AECOM\\\\60717510ER1 TAVGIS Portomarghera - 09_Temp\\\\0 - GIS\\\\NP - Lotto CPL.mxd',\n",
       " 'C:\\\\Users\\\\GIORGIO.CAIZZI\\\\AECOM\\\\60717510ER1 TAVGIS Portomarghera - 09_Temp\\\\0 - GIS\\\\NP - Lotto CTE.mxd',\n",
       " 'C:\\\\Users\\\\GIORGIO.CAIZZI\\\\AECOM\\\\60717510ER1 TAVGIS Portomarghera - 09_Temp\\\\0 - GIS\\\\NP - Lotto IMP.mxd',\n",
       " 'C:\\\\Users\\\\GIORGIO.CAIZZI\\\\AECOM\\\\60717510ER1 TAVGIS Portomarghera - 09_Temp\\\\0 - GIS\\\\NP - Lotto MAT.mxd',\n",
       " 'C:\\\\Users\\\\GIORGIO.CAIZZI\\\\AECOM\\\\60717510ER1 TAVGIS Portomarghera - 09_Temp\\\\0 - GIS\\\\NP - Lotto MT.mxd',\n",
       " 'C:\\\\Users\\\\GIORGIO.CAIZZI\\\\AECOM\\\\60717510ER1 TAVGIS Portomarghera - 09_Temp\\\\0 - GIS\\\\NP - Lotto PSS.mxd',\n",
       " 'C:\\\\Users\\\\GIORGIO.CAIZZI\\\\AECOM\\\\60717510ER1 TAVGIS Portomarghera - 09_Temp\\\\0 - GIS\\\\VP.mxd']"
      ]
     },
     "execution_count": 10,
     "metadata": {},
     "output_type": "execute_result"
    }
   ],
   "source": [
    "p.get_maps()"
   ]
  },
  {
   "cell_type": "code",
   "execution_count": 11,
   "metadata": {},
   "outputs": [
    {
     "data": {
      "text/plain": [
       "['C:\\\\Users\\\\GIORGIO.CAIZZI\\\\AECOM\\\\60717510ER1 TAVGIS Portomarghera - 09_Temp\\\\0 - GIS\\\\NP - Lotto AI.mxd',\n",
       " 'C:\\\\Users\\\\GIORGIO.CAIZZI\\\\AECOM\\\\60717510ER1 TAVGIS Portomarghera - 09_Temp\\\\0 - GIS\\\\NP - Lotto AS.mxd',\n",
       " 'C:\\\\Users\\\\GIORGIO.CAIZZI\\\\AECOM\\\\60717510ER1 TAVGIS Portomarghera - 09_Temp\\\\0 - GIS\\\\NP - Lotto CPL.mxd',\n",
       " 'C:\\\\Users\\\\GIORGIO.CAIZZI\\\\AECOM\\\\60717510ER1 TAVGIS Portomarghera - 09_Temp\\\\0 - GIS\\\\NP - Lotto CTE.mxd',\n",
       " 'C:\\\\Users\\\\GIORGIO.CAIZZI\\\\AECOM\\\\60717510ER1 TAVGIS Portomarghera - 09_Temp\\\\0 - GIS\\\\NP - Lotto IMP.mxd',\n",
       " 'C:\\\\Users\\\\GIORGIO.CAIZZI\\\\AECOM\\\\60717510ER1 TAVGIS Portomarghera - 09_Temp\\\\0 - GIS\\\\NP - Lotto MAT.mxd',\n",
       " 'C:\\\\Users\\\\GIORGIO.CAIZZI\\\\AECOM\\\\60717510ER1 TAVGIS Portomarghera - 09_Temp\\\\0 - GIS\\\\NP - Lotto MT.mxd',\n",
       " 'C:\\\\Users\\\\GIORGIO.CAIZZI\\\\AECOM\\\\60717510ER1 TAVGIS Portomarghera - 09_Temp\\\\0 - GIS\\\\NP - Lotto PSS.mxd']"
      ]
     },
     "execution_count": 11,
     "metadata": {},
     "output_type": "execute_result"
    }
   ],
   "source": [
    "p.get_maps(\"NP\")"
   ]
  },
  {
   "cell_type": "code",
   "execution_count": 12,
   "metadata": {},
   "outputs": [
    {
     "data": {
      "text/plain": [
       "['C:\\\\Users\\\\GIORGIO.CAIZZI\\\\AECOM\\\\60717510ER1 TAVGIS Portomarghera - 09_Temp\\\\0 - GIS\\\\NP - Lotto AI.mxd',\n",
       " 'C:\\\\Users\\\\GIORGIO.CAIZZI\\\\AECOM\\\\60717510ER1 TAVGIS Portomarghera - 09_Temp\\\\0 - GIS\\\\NP - Lotto AS.mxd',\n",
       " 'C:\\\\Users\\\\GIORGIO.CAIZZI\\\\AECOM\\\\60717510ER1 TAVGIS Portomarghera - 09_Temp\\\\0 - GIS\\\\NP - Lotto CPL.mxd',\n",
       " 'C:\\\\Users\\\\GIORGIO.CAIZZI\\\\AECOM\\\\60717510ER1 TAVGIS Portomarghera - 09_Temp\\\\0 - GIS\\\\NP - Lotto CTE.mxd']"
      ]
     },
     "execution_count": 12,
     "metadata": {},
     "output_type": "execute_result"
    }
   ],
   "source": [
    "p.get_maps([\"Lotto A\", \"Lotto C\"])"
   ]
  },
  {
   "cell_type": "markdown",
   "metadata": {},
   "source": [
    "## Modify layout elements\n",
    "\n",
    "The Layout `TEXT_ELEMENT`s can be easily modified using the `set_layout_text_elements` function of the `Project` object."
   ]
  },
  {
   "cell_type": "code",
   "execution_count": 13,
   "metadata": {},
   "outputs": [],
   "source": [
    "text_elements = {\n",
    "    r\"{{PROJ}}\":\"60717510\",\n",
    "    r\"{{DATA}}\":\"25/10/23\",\n",
    "    r\"{{SITO}}\":\"Porto Marghera\\Vecchio Petrolchimico\",\n",
    "}"
   ]
  },
  {
   "cell_type": "code",
   "execution_count": 14,
   "metadata": {},
   "outputs": [],
   "source": [
    "p.set_layout_text_elements(p.get_maps(\"VP\"),layout_elements_map=text_elements)"
   ]
  },
  {
   "cell_type": "markdown",
   "metadata": {},
   "source": [
    "## Export project maps\n",
    "\n",
    "It is possible to export a list of maps of the project using the `export_maps` function.\n",
    "The function takes a list of maps as argument and export them in pdf.\n",
    "\n",
    "The list of project maps get be retrived using the `get_maps` function, that optionally allows for a filter on the map name using a string pattern."
   ]
  },
  {
   "cell_type": "code",
   "execution_count": 15,
   "metadata": {},
   "outputs": [
    {
     "name": "stdout",
     "output_type": "stream",
     "text": [
      "Exporting map: C:\\Users\\GIORGIO.CAIZZI\\AECOM\\60717510ER1 TAVGIS Portomarghera - 09_Temp\\0 - GIS\\NP - Lotto AI.mxd\n",
      "Map exported: C:\\Users\\GIORGIO.CAIZZI\\AECOM\\60717510ER1 TAVGIS Portomarghera - 09_Temp\\0 - GIS\\NP - Lotto AI.mxd\n",
      "Exporting map: C:\\Users\\GIORGIO.CAIZZI\\AECOM\\60717510ER1 TAVGIS Portomarghera - 09_Temp\\0 - GIS\\NP - Lotto AS.mxd\n",
      "Map exported: C:\\Users\\GIORGIO.CAIZZI\\AECOM\\60717510ER1 TAVGIS Portomarghera - 09_Temp\\0 - GIS\\NP - Lotto AS.mxd\n",
      "Exporting map: C:\\Users\\GIORGIO.CAIZZI\\AECOM\\60717510ER1 TAVGIS Portomarghera - 09_Temp\\0 - GIS\\NP - Lotto CPL.mxd\n",
      "Map exported: C:\\Users\\GIORGIO.CAIZZI\\AECOM\\60717510ER1 TAVGIS Portomarghera - 09_Temp\\0 - GIS\\NP - Lotto CPL.mxd\n",
      "Exporting map: C:\\Users\\GIORGIO.CAIZZI\\AECOM\\60717510ER1 TAVGIS Portomarghera - 09_Temp\\0 - GIS\\NP - Lotto CTE.mxd\n",
      "Map exported: C:\\Users\\GIORGIO.CAIZZI\\AECOM\\60717510ER1 TAVGIS Portomarghera - 09_Temp\\0 - GIS\\NP - Lotto CTE.mxd\n",
      "Exporting map: C:\\Users\\GIORGIO.CAIZZI\\AECOM\\60717510ER1 TAVGIS Portomarghera - 09_Temp\\0 - GIS\\NP - Lotto IMP.mxd\n",
      "Map exported: C:\\Users\\GIORGIO.CAIZZI\\AECOM\\60717510ER1 TAVGIS Portomarghera - 09_Temp\\0 - GIS\\NP - Lotto IMP.mxd\n",
      "Exporting map: C:\\Users\\GIORGIO.CAIZZI\\AECOM\\60717510ER1 TAVGIS Portomarghera - 09_Temp\\0 - GIS\\NP - Lotto MAT.mxd\n",
      "Map exported: C:\\Users\\GIORGIO.CAIZZI\\AECOM\\60717510ER1 TAVGIS Portomarghera - 09_Temp\\0 - GIS\\NP - Lotto MAT.mxd\n",
      "Exporting map: C:\\Users\\GIORGIO.CAIZZI\\AECOM\\60717510ER1 TAVGIS Portomarghera - 09_Temp\\0 - GIS\\NP - Lotto MT.mxd\n",
      "Map exported: C:\\Users\\GIORGIO.CAIZZI\\AECOM\\60717510ER1 TAVGIS Portomarghera - 09_Temp\\0 - GIS\\NP - Lotto MT.mxd\n",
      "Exporting map: C:\\Users\\GIORGIO.CAIZZI\\AECOM\\60717510ER1 TAVGIS Portomarghera - 09_Temp\\0 - GIS\\NP - Lotto PSS.mxd\n",
      "Map exported: C:\\Users\\GIORGIO.CAIZZI\\AECOM\\60717510ER1 TAVGIS Portomarghera - 09_Temp\\0 - GIS\\NP - Lotto PSS.mxd\n",
      "Exporting map: C:\\Users\\GIORGIO.CAIZZI\\AECOM\\60717510ER1 TAVGIS Portomarghera - 09_Temp\\0 - GIS\\VP.mxd\n",
      "Map exported: C:\\Users\\GIORGIO.CAIZZI\\AECOM\\60717510ER1 TAVGIS Portomarghera - 09_Temp\\0 - GIS\\VP.mxd\n"
     ]
    }
   ],
   "source": [
    "p.export_maps(p.get_maps(),verbose=True)"
   ]
  },
  {
   "cell_type": "code",
   "execution_count": null,
   "metadata": {},
   "outputs": [],
   "source": []
  }
 ],
 "metadata": {
  "kernelspec": {
   "display_name": "aecom",
   "language": "python",
   "name": "python3"
  },
  "language_info": {
   "codemirror_mode": {
    "name": "ipython",
    "version": 2
   },
   "file_extension": ".py",
   "mimetype": "text/x-python",
   "name": "python",
   "nbconvert_exporter": "python",
   "pygments_lexer": "ipython2",
   "version": "2.7.18"
  }
 },
 "nbformat": 4,
 "nbformat_minor": 2
}
