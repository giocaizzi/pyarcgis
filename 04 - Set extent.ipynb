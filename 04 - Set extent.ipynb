{
 "cells": [
  {
   "cell_type": "markdown",
   "metadata": {},
   "source": [
    "# Set extent of dataframe"
   ]
  },
  {
   "cell_type": "code",
   "execution_count": 1,
   "metadata": {},
   "outputs": [],
   "source": [
    "from pyarcgis.core import Project, Map"
   ]
  },
  {
   "cell_type": "code",
   "execution_count": 2,
   "metadata": {},
   "outputs": [],
   "source": [
    "root = r\"C:\\Users\\GIORGIO.CAIZZI\\AECOM\\60707617ER1 Gela Sup spec Bonifica falda - 09_Temp\\0 - GIS e DB\\Tavole\"\n",
    "p = Project(\n",
    "    root\n",
    "    )"
   ]
  },
  {
   "cell_type": "code",
   "execution_count": 3,
   "metadata": {},
   "outputs": [
    {
     "data": {
      "text/plain": [
       "['C:\\\\Users\\\\GIORGIO.CAIZZI\\\\AECOM\\\\60707617ER1 Gela Sup spec Bonifica falda - 09_Temp\\\\0 - GIS e DB\\\\Tavole\\\\Tavola 01 - Rete di monitoraggio.mxd',\n",
       " 'C:\\\\Users\\\\GIORGIO.CAIZZI\\\\AECOM\\\\60707617ER1 Gela Sup spec Bonifica falda - 09_Temp\\\\0 - GIS e DB\\\\Tavole\\\\Tavola 02 - Arsenico.mxd',\n",
       " 'C:\\\\Users\\\\GIORGIO.CAIZZI\\\\AECOM\\\\60707617ER1 Gela Sup spec Bonifica falda - 09_Temp\\\\0 - GIS e DB\\\\Tavole\\\\Tavola 02 - Arsenico_piezometri.mxd',\n",
       " 'C:\\\\Users\\\\GIORGIO.CAIZZI\\\\AECOM\\\\60707617ER1 Gela Sup spec Bonifica falda - 09_Temp\\\\0 - GIS e DB\\\\Tavole\\\\Tavola 02 - Arsenico_PM.mxd',\n",
       " 'C:\\\\Users\\\\GIORGIO.CAIZZI\\\\AECOM\\\\60707617ER1 Gela Sup spec Bonifica falda - 09_Temp\\\\0 - GIS e DB\\\\Tavole\\\\Tavola 03 - Sommatoria clorurati.mxd',\n",
       " 'C:\\\\Users\\\\GIORGIO.CAIZZI\\\\AECOM\\\\60707617ER1 Gela Sup spec Bonifica falda - 09_Temp\\\\0 - GIS e DB\\\\Tavole\\\\Tavola 03 - Sommatoria clorurati_piezometri.mxd',\n",
       " 'C:\\\\Users\\\\GIORGIO.CAIZZI\\\\AECOM\\\\60707617ER1 Gela Sup spec Bonifica falda - 09_Temp\\\\0 - GIS e DB\\\\Tavole\\\\Tavola 03 - Sommatoria clorurati_PM.mxd',\n",
       " 'C:\\\\Users\\\\GIORGIO.CAIZZI\\\\AECOM\\\\60707617ER1 Gela Sup spec Bonifica falda - 09_Temp\\\\0 - GIS e DB\\\\Tavole\\\\Tavola 04 - Benzene.mxd',\n",
       " 'C:\\\\Users\\\\GIORGIO.CAIZZI\\\\AECOM\\\\60707617ER1 Gela Sup spec Bonifica falda - 09_Temp\\\\0 - GIS e DB\\\\Tavole\\\\Tavola 04 - Benzene_piezometri.mxd',\n",
       " 'C:\\\\Users\\\\GIORGIO.CAIZZI\\\\AECOM\\\\60707617ER1 Gela Sup spec Bonifica falda - 09_Temp\\\\0 - GIS e DB\\\\Tavole\\\\Tavola 05 - Idrocarburi totali.mxd',\n",
       " 'C:\\\\Users\\\\GIORGIO.CAIZZI\\\\AECOM\\\\60707617ER1 Gela Sup spec Bonifica falda - 09_Temp\\\\0 - GIS e DB\\\\Tavole\\\\Tavola 05 - Idrocarburi totali_piezometri.mxd']"
      ]
     },
     "execution_count": 3,
     "metadata": {},
     "output_type": "execute_result"
    }
   ],
   "source": [
    "p.get_maps()"
   ]
  },
  {
   "cell_type": "markdown",
   "metadata": {},
   "source": [
    "Apply the extend of map 1 to map 0."
   ]
  },
  {
   "cell_type": "code",
   "execution_count": 4,
   "metadata": {},
   "outputs": [],
   "source": [
    "newExtent = Map(p.get_maps()[1]).dataframes[0].extent"
   ]
  },
  {
   "cell_type": "code",
   "execution_count": 5,
   "metadata": {},
   "outputs": [],
   "source": [
    "with Map(p.get_maps()[0],save_on_exit=True) as imap:\n",
    "    imap.set_extent(extent=newExtent)"
   ]
  }
 ],
 "metadata": {
  "kernelspec": {
   "display_name": "Python 3",
   "language": "python",
   "name": "python3"
  },
  "language_info": {
   "codemirror_mode": {
    "name": "ipython",
    "version": 2
   },
   "file_extension": ".py",
   "mimetype": "text/x-python",
   "name": "python",
   "nbconvert_exporter": "python",
   "pygments_lexer": "ipython2",
   "version": "2.7.18.4"
  }
 },
 "nbformat": 4,
 "nbformat_minor": 2
}
