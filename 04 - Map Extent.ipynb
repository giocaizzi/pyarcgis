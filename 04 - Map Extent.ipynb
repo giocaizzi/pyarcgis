{
 "cells": [
  {
   "cell_type": "markdown",
   "metadata": {},
   "source": [
    "# Extent of dataframe"
   ]
  },
  {
   "cell_type": "code",
   "execution_count": 1,
   "metadata": {},
   "outputs": [],
   "source": [
    "from pyarcgis.core import Project, Map"
   ]
  },
  {
   "cell_type": "code",
   "execution_count": 2,
   "metadata": {},
   "outputs": [],
   "source": [
    "root = r\"C:\\Users\\GIORGIO.CAIZZI\\AECOM\\60707617ER1 Gela Sup spec Bonifica falda - 09_Temp\\0 - GIS e DB\\Tavole\"\n",
    "p = Project(\n",
    "    root\n",
    "    )"
   ]
  },
  {
   "cell_type": "code",
   "execution_count": 3,
   "metadata": {},
   "outputs": [
    {
     "data": {
      "text/plain": [
       "['C:\\\\Users\\\\GIORGIO.CAIZZI\\\\AECOM\\\\60707617ER1 Gela Sup spec Bonifica falda - 09_Temp\\\\0 - GIS e DB\\\\Tavole\\\\Tavola 01 - Rete di monitoraggio.mxd',\n",
       " 'C:\\\\Users\\\\GIORGIO.CAIZZI\\\\AECOM\\\\60707617ER1 Gela Sup spec Bonifica falda - 09_Temp\\\\0 - GIS e DB\\\\Tavole\\\\Tavola 01 - Rete di monitoraggio_v2.mxd',\n",
       " 'C:\\\\Users\\\\GIORGIO.CAIZZI\\\\AECOM\\\\60707617ER1 Gela Sup spec Bonifica falda - 09_Temp\\\\0 - GIS e DB\\\\Tavole\\\\Tavola 02 - Arsenico.mxd',\n",
       " 'C:\\\\Users\\\\GIORGIO.CAIZZI\\\\AECOM\\\\60707617ER1 Gela Sup spec Bonifica falda - 09_Temp\\\\0 - GIS e DB\\\\Tavole\\\\Tavola 03 - Sommatoria clorurati.mxd',\n",
       " 'C:\\\\Users\\\\GIORGIO.CAIZZI\\\\AECOM\\\\60707617ER1 Gela Sup spec Bonifica falda - 09_Temp\\\\0 - GIS e DB\\\\Tavole\\\\Tavola 04 - Benzene.mxd',\n",
       " 'C:\\\\Users\\\\GIORGIO.CAIZZI\\\\AECOM\\\\60707617ER1 Gela Sup spec Bonifica falda - 09_Temp\\\\0 - GIS e DB\\\\Tavole\\\\Tavola 05 - Idrocarburi totali.mxd']"
      ]
     },
     "execution_count": 3,
     "metadata": {},
     "output_type": "execute_result"
    }
   ],
   "source": [
    "p.get_maps()"
   ]
  },
  {
   "cell_type": "markdown",
   "metadata": {},
   "source": [
    "## Apply the extent to all maps in projects"
   ]
  },
  {
   "cell_type": "code",
   "execution_count": 4,
   "metadata": {},
   "outputs": [],
   "source": [
    "newExtent = Map(p.get_maps(\"Tavola 05\")[0]).dataframes[0].extent"
   ]
  },
  {
   "cell_type": "code",
   "execution_count": 5,
   "metadata": {},
   "outputs": [
    {
     "ename": "Exception",
     "evalue": "Extent not set correctly",
     "output_type": "error",
     "traceback": [
      "\u001b[1;31m\u001b[0m",
      "\u001b[1;31mException\u001b[0mTraceback (most recent call last)",
      "\u001b[1;32m<ipython-input-5-92193da24e82>\u001b[0m in \u001b[0;36m<module>\u001b[1;34m()\u001b[0m\n\u001b[0;32m      5\u001b[0m     \u001b[1;32melse\u001b[0m\u001b[1;33m:\u001b[0m\u001b[1;33m\u001b[0m\u001b[0m\n\u001b[0;32m      6\u001b[0m         \u001b[1;32mwith\u001b[0m \u001b[0mMap\u001b[0m\u001b[1;33m(\u001b[0m\u001b[0mmap\u001b[0m\u001b[1;33m,\u001b[0m\u001b[0msave_on_exit\u001b[0m\u001b[1;33m=\u001b[0m\u001b[0mTrue\u001b[0m\u001b[1;33m)\u001b[0m \u001b[1;32mas\u001b[0m \u001b[0mimap\u001b[0m\u001b[1;33m:\u001b[0m\u001b[1;33m\u001b[0m\u001b[0m\n\u001b[1;32m----> 7\u001b[1;33m             \u001b[0mimap\u001b[0m\u001b[1;33m.\u001b[0m\u001b[0mset_extent\u001b[0m\u001b[1;33m(\u001b[0m\u001b[0mextent\u001b[0m\u001b[1;33m=\u001b[0m\u001b[0mnewExtent\u001b[0m\u001b[1;33m)\u001b[0m\u001b[1;33m\u001b[0m\u001b[0m\n\u001b[0m",
      "\u001b[1;32mc:\\Users\\GIORGIO.CAIZZI\\OneDrive - AECOM\\Documents\\python\\pyarcgis\\pyarcgis\\core.py\u001b[0m in \u001b[0;36mset_extent\u001b[1;34m(self, dataframe_name, xmin, xmax, ymin, ymax, extent)\u001b[0m\n\u001b[0;32m    189\u001b[0m                 \u001b[1;32mif\u001b[0m \u001b[0mdf\u001b[0m\u001b[1;33m.\u001b[0m\u001b[0mname\u001b[0m \u001b[1;33m==\u001b[0m \u001b[0mdataframe_name\u001b[0m\u001b[1;33m:\u001b[0m\u001b[1;33m\u001b[0m\u001b[0m\n\u001b[0;32m    190\u001b[0m                     \u001b[1;32mif\u001b[0m \u001b[0mdf\u001b[0m\u001b[1;33m.\u001b[0m\u001b[0mextent\u001b[0m\u001b[1;33m.\u001b[0m\u001b[0mXMin\u001b[0m \u001b[1;33m!=\u001b[0m \u001b[0mextent\u001b[0m\u001b[1;33m.\u001b[0m\u001b[0mXMin\u001b[0m \u001b[1;32mor\u001b[0m \u001b[0mdf\u001b[0m\u001b[1;33m.\u001b[0m\u001b[0mextent\u001b[0m\u001b[1;33m.\u001b[0m\u001b[0mXMax\u001b[0m \u001b[1;33m!=\u001b[0m \u001b[0mextent\u001b[0m\u001b[1;33m.\u001b[0m\u001b[0mXMax\u001b[0m \u001b[1;32mor\u001b[0m \u001b[0mdf\u001b[0m\u001b[1;33m.\u001b[0m\u001b[0mextent\u001b[0m\u001b[1;33m.\u001b[0m\u001b[0mYMin\u001b[0m \u001b[1;33m!=\u001b[0m \u001b[0mextent\u001b[0m\u001b[1;33m.\u001b[0m\u001b[0mYMin\u001b[0m \u001b[1;32mor\u001b[0m \u001b[0mdf\u001b[0m\u001b[1;33m.\u001b[0m\u001b[0mextent\u001b[0m\u001b[1;33m.\u001b[0m\u001b[0mYMax\u001b[0m \u001b[1;33m!=\u001b[0m \u001b[0mextent\u001b[0m\u001b[1;33m.\u001b[0m\u001b[0mYMax\u001b[0m\u001b[1;33m:\u001b[0m\u001b[1;33m\u001b[0m\u001b[0m\n\u001b[1;32m--> 191\u001b[1;33m                         \u001b[1;32mraise\u001b[0m \u001b[0mException\u001b[0m\u001b[1;33m(\u001b[0m\u001b[1;34m\"Extent not set correctly\"\u001b[0m\u001b[1;33m)\u001b[0m\u001b[1;33m\u001b[0m\u001b[0m\n\u001b[0m\u001b[0;32m    192\u001b[0m \u001b[1;33m\u001b[0m\u001b[0m\n\u001b[0;32m    193\u001b[0m \u001b[1;33m\u001b[0m\u001b[0m\n",
      "\u001b[1;31mException\u001b[0m: Extent not set correctly"
     ]
    }
   ],
   "source": [
    "for map in p.get_maps():\n",
    "    if \"Tavola 05\" in map:\n",
    "        print(\"skippping original map\")\n",
    "        print(map)\n",
    "    else:\n",
    "        with Map(map,save_on_exit=True) as imap:\n",
    "            imap.set_extent(extent=newExtent)"
   ]
  }
 ],
 "metadata": {
  "kernelspec": {
   "display_name": "Python 3",
   "language": "python",
   "name": "python3"
  },
  "language_info": {
   "codemirror_mode": {
    "name": "ipython",
    "version": 2
   },
   "file_extension": ".py",
   "mimetype": "text/x-python",
   "name": "python",
   "nbconvert_exporter": "python",
   "pygments_lexer": "ipython2",
   "version": "2.7.18.4"
  }
 },
 "nbformat": 4,
 "nbformat_minor": 2
}
