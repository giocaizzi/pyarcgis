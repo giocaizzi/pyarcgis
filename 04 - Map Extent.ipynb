{
 "cells": [
  {
   "cell_type": "markdown",
   "metadata": {},
   "source": [
    "# Extent of dataframe"
   ]
  },
  {
   "cell_type": "code",
   "execution_count": 6,
   "metadata": {},
   "outputs": [],
   "source": [
    "from pyarcgis.core import Project, Map"
   ]
  },
  {
   "cell_type": "code",
   "execution_count": 7,
   "metadata": {},
   "outputs": [],
   "source": [
    "root = r\"C:\\Users\\GIORGIO.CAIZZI\\AECOM\\60707617ER1 Gela Sup spec Bonifica falda - 09_Temp\\0 - GIS e DB\\Tavole\"\n",
    "p = Project(\n",
    "    root\n",
    "    )"
   ]
  },
  {
   "cell_type": "code",
   "execution_count": 8,
   "metadata": {},
   "outputs": [
    {
     "data": {
      "text/plain": [
       "['C:\\\\Users\\\\GIORGIO.CAIZZI\\\\AECOM\\\\60707617ER1 Gela Sup spec Bonifica falda - 09_Temp\\\\0 - GIS e DB\\\\Tavole\\\\Tavola 01 - Rete di monitoraggio.mxd',\n",
       " 'C:\\\\Users\\\\GIORGIO.CAIZZI\\\\AECOM\\\\60707617ER1 Gela Sup spec Bonifica falda - 09_Temp\\\\0 - GIS e DB\\\\Tavole\\\\Tavola 01 - Rete di monitoraggio_v2.mxd',\n",
       " 'C:\\\\Users\\\\GIORGIO.CAIZZI\\\\AECOM\\\\60707617ER1 Gela Sup spec Bonifica falda - 09_Temp\\\\0 - GIS e DB\\\\Tavole\\\\Tavola 02 - Arsenico.mxd',\n",
       " 'C:\\\\Users\\\\GIORGIO.CAIZZI\\\\AECOM\\\\60707617ER1 Gela Sup spec Bonifica falda - 09_Temp\\\\0 - GIS e DB\\\\Tavole\\\\Tavola 03 - Sommatoria clorurati.mxd',\n",
       " 'C:\\\\Users\\\\GIORGIO.CAIZZI\\\\AECOM\\\\60707617ER1 Gela Sup spec Bonifica falda - 09_Temp\\\\0 - GIS e DB\\\\Tavole\\\\Tavola 04 - Benzene.mxd',\n",
       " 'C:\\\\Users\\\\GIORGIO.CAIZZI\\\\AECOM\\\\60707617ER1 Gela Sup spec Bonifica falda - 09_Temp\\\\0 - GIS e DB\\\\Tavole\\\\Tavola 05 - Idrocarburi totali.mxd']"
      ]
     },
     "execution_count": 8,
     "metadata": {},
     "output_type": "execute_result"
    }
   ],
   "source": [
    "p.get_maps()"
   ]
  },
  {
   "cell_type": "markdown",
   "metadata": {},
   "source": [
    "## Apply the extent to all maps in projects"
   ]
  },
  {
   "cell_type": "code",
   "execution_count": 9,
   "metadata": {},
   "outputs": [],
   "source": [
    "newExtent = Map(p.get_maps(\"Tavola 02\")[0]).dataframes[0].extent"
   ]
  },
  {
   "cell_type": "code",
   "execution_count": 10,
   "metadata": {},
   "outputs": [
    {
     "name": "stdout",
     "output_type": "stream",
     "text": [
      "skippping original map\n",
      "C:\\Users\\GIORGIO.CAIZZI\\AECOM\\60707617ER1 Gela Sup spec Bonifica falda - 09_Temp\\0 - GIS e DB\\Tavole\\Tavola 02 - Arsenico.mxd\n"
     ]
    }
   ],
   "source": [
    "for map in p.get_maps():\n",
    "    if \"Tavola 02\" in map:\n",
    "        print(\"skippping original map\")\n",
    "        print(map)\n",
    "    else:\n",
    "        with Map(map,save_on_exit=True) as imap:\n",
    "            imap.set_extent(extent=newExtent)"
   ]
  }
 ],
 "metadata": {
  "kernelspec": {
   "display_name": "Python 3",
   "language": "python",
   "name": "python3"
  },
  "language_info": {
   "codemirror_mode": {
    "name": "ipython",
    "version": 2
   },
   "file_extension": ".py",
   "mimetype": "text/x-python",
   "name": "python",
   "nbconvert_exporter": "python",
   "pygments_lexer": "ipython2",
   "version": "2.7.18.4"
  }
 },
 "nbformat": 4,
 "nbformat_minor": 2
}
