{
 "cells": [
  {
   "cell_type": "markdown",
   "metadata": {},
   "source": [
    "# Modify layout elements\n",
    "\n",
    "The Layout `TEXT_ELEMENT`s can be easily modified using the `set_layout_text_elements` function of the `Project` object."
   ]
  },
  {
   "cell_type": "code",
   "execution_count": 8,
   "metadata": {},
   "outputs": [],
   "source": [
    "from pyarcgis.core import Project"
   ]
  },
  {
   "cell_type": "code",
   "execution_count": 9,
   "metadata": {},
   "outputs": [],
   "source": [
    "root = r\"C:\\Users\\GIORGIO.CAIZZI\\AECOM\\60717510ER1 TAVGIS Portomarghera - 09_Temp\\0 - GIS\"\n",
    "p = Project(\n",
    "    root\n",
    "    )"
   ]
  },
  {
   "cell_type": "code",
   "execution_count": 13,
   "metadata": {},
   "outputs": [],
   "source": [
    "text_elements = {\n",
    "    r\"{{PROJ}}\":\"60717510\",\n",
    "    r\"{{DATA}}\":\"25/10/23\",\n",
    "    r\"{{SITO}}\":\"Porto Marghera\\Vecchio Petrolchimico\",\n",
    "}"
   ]
  },
  {
   "cell_type": "code",
   "execution_count": 14,
   "metadata": {},
   "outputs": [],
   "source": [
    "p.set_layout_text_elements(p.get_maps(\"VP\"),text_elements_map=text_elements)"
   ]
  }
 ],
 "metadata": {
  "kernelspec": {
   "display_name": "aecom",
   "language": "python",
   "name": "python3"
  },
  "language_info": {
   "codemirror_mode": {
    "name": "ipython",
    "version": 2
   },
   "file_extension": ".py",
   "mimetype": "text/x-python",
   "name": "python",
   "nbconvert_exporter": "python",
   "pygments_lexer": "ipython2",
   "version": "2.7.18"
  }
 },
 "nbformat": 4,
 "nbformat_minor": 2
}
