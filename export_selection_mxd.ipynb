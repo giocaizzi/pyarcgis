{
 "cells": [
  {
   "cell_type": "code",
   "execution_count": 1,
   "metadata": {},
   "outputs": [
    {
     "name": "stdout",
     "output_type": "stream",
     "text": [
      "--------C:\\Users\\GIORGIO.CAIZZI\\AECOM\\60678625ER Marghera - AdR VP e NP - 09_Temp\\00 - GIS\\02 - Tavole Modello Concettuale\\Vecchio petrolchimico--------\n",
      "Allegato A.12.1 -Sorgenti di potenziale contaminazione SS CD Scenario1.mxd\n",
      "Allegato A.12.2 -Sorgenti di potenziale contaminazione SS IN Scenario1.mxd\n",
      "Allegato A.12.3 -Sorgenti di potenziale contaminazione SP IN Scenario1.mxd\n",
      "Allegato A.12.4 -Sorgenti di potenziale contaminazione GW Scenario1.mxd\n",
      "Allegato A.12.5 -Sorgenti di potenziale contaminazione SS CD Scenario2.mxd\n",
      "Allegato A.12.6 -Sorgenti di potenziale contaminazione SS IN Scenario2.mxd\n",
      "Allegato A.12.7 -Sorgenti di potenziale contaminazione SP CD Scenario2.mxd\n",
      "Allegato A.12.8 -Sorgenti di potenziale contaminazione SP IN Scenario2.mxd\n",
      "Allegato A.12.9 -Sorgenti di potenziale contaminazione GW Scenario2.mxd\n"
     ]
    }
   ],
   "source": [
    "import arcpy, os\n",
    "folderPaths = [\n",
    "    # r\"C:\\Users\\GIORGIO.CAIZZI\\AECOM\\60678625ER Marghera - AdR VP e NP - 09_Temp\\00 - GIS\\02 - Tavole Modello Concettuale\\Nuovo petrolchimico\",\n",
    "    r\"C:\\Users\\GIORGIO.CAIZZI\\AECOM\\60678625ER Marghera - AdR VP e NP - 09_Temp\\00 - GIS\\02 - Tavole Modello Concettuale\\Vecchio petrolchimico\",\n",
    "    # r\"C:\\Users\\GIORGIO.CAIZZI\\AECOM\\60678625ER Marghera - AdR VP e NP - 09_Temp\\00 - GIS\\02a - Carte Rischio\\VP\",\n",
    "    # r\"C:\\Users\\GIORGIO.CAIZZI\\AECOM\\60678625ER Marghera - AdR VP e NP - 09_Temp\\00 - GIS\\02a - Carte Rischio\\NP\",\n",
    "\n",
    "]\n",
    "\n",
    "for folderPath in folderPaths:\n",
    "    print(\"--------{}--------\".format(folderPath))\n",
    "    for filename in os.listdir(folderPath):\n",
    "        fullpath = os.path.join(folderPath, filename)\n",
    "        if os.path.isfile(fullpath):\n",
    "            basename, extension = os.path.splitext(fullpath)\n",
    "            if extension.lower() == \".mxd\":\n",
    "                filename=filename.decode(\"latin8\")\n",
    "                if filename.startswith(\"Allegato A.12\"):\n",
    "                    mxd = arcpy.mapping.MapDocument(fullpath)\n",
    "                    arcpy.mapping.ExportToPDF(mxd, os.path.join(folderPath, filename[:-4]+\".pdf\"))\n",
    "                    print(filename)\n",
    "                    del mxd"
   ]
  }
 ],
 "metadata": {
  "kernelspec": {
   "display_name": "Python 3",
   "language": "python",
   "name": "python3"
  },
  "language_info": {
   "codemirror_mode": {
    "name": "ipython",
    "version": 2
   },
   "file_extension": ".py",
   "mimetype": "text/x-python",
   "name": "python",
   "nbconvert_exporter": "python",
   "pygments_lexer": "ipython2",
   "version": "2.7.18"
  },
  "orig_nbformat": 4
 },
 "nbformat": 4,
 "nbformat_minor": 2
}
