{
 "cells": [
  {
   "cell_type": "code",
   "execution_count": 1,
   "metadata": {},
   "outputs": [
    {
     "name": "stdout",
     "output_type": "stream",
     "text": [
      "--------C:\\Users\\GIORGIO.CAIZZI\\AECOM\\60678625ER Marghera - AdR VP e NP - 09_Temp\\00 - GIS\\02 - Tavole Modello Concettuale\\Vecchio petrolchimico--------\n",
      "Allegato A.01 - Planimetria confini proprietà e recettori off-site.mxd\n",
      "Allegato A.02 - Planimetria sito e stato attuale dei luoghi.mxd\n",
      "Allegato A.03 - Planimetria ubicazione indagini.mxd\n",
      "Allegato A.09 - Planimetria ubicazione piezometri e concentrazione acque di impregnazione.mxd\n",
      "Allegato A.10 - Planimetria con ubicazione presenza di fonti primarie e di materiali di riporto.mxd\n",
      "Allegato A.12.1 -Sorgenti di potenziale contaminazione SS CD Scenario1.mxd\n",
      "Allegato A.12.2 -Sorgenti di potenziale contaminazione SS IN Scenario1.mxd\n",
      "Allegato A.12.3 -Sorgenti di potenziale contaminazione SP IN Scenario1.mxd\n",
      "Allegato A.12.4 -Sorgenti di potenziale contaminazione GW Scenario1.mxd\n",
      "Allegato A.12.5 -Sorgenti di potenziale contaminazione SS CD Scenario2.mxd\n",
      "Allegato A.12.6 -Sorgenti di potenziale contaminazione SS IN Scenario2.mxd\n",
      "Allegato A.12.7 -Sorgenti di potenziale contaminazione SP CD Scenario2.mxd\n",
      "Allegato A.12.8 -Sorgenti di potenziale contaminazione SP IN Scenario2.mxd\n",
      "Allegato A.12.9 -Sorgenti di potenziale contaminazione GW Scenario2.mxd\n",
      "Allegato A.13.01 - Planimetria ubicazione eccedenze delle CSC per i contaminanti nelle acque di impregnazione.mxd\n",
      "Allegato A.13.02 - Planimetria ubicazione eccedenze delle CSC per i contaminanti nelle acque di impregnazione.mxd\n",
      "Allegato A.13.03 - Planimetria ubicazione eccedenze delle CSC per i contaminanti nelle acque di impregnazione.mxd\n",
      "Allegato A.13.04 - Planimetria ubicazione eccedenze delle CSC per i contaminanti nelle acque di impregnazione.mxd\n",
      "Allegato A.13.05 - Planimetria ubicazione eccedenze delle CSC per i contaminanti nelle acque di impregnazione.mxd\n",
      "Allegato A.13.06 - Planimetria ubicazione eccedenze delle CSC per i contaminanti nelle acque di impregnazione.mxd\n",
      "Allegato A.13.07 - Planimetria ubicazione eccedenze delle CSC per i contaminanti nelle acque di impregnazione.mxd\n",
      "Allegato A.13.08 - Planimetria ubicazione eccedenze delle CSC per i contaminanti nelle acque di impregnazione.mxd\n",
      "Allegato A.13.09 - Planimetria ubicazione eccedenze delle CSC per i contaminanti nelle acque di impregnazione.mxd\n",
      "Allegato A.13.10 - Planimetria ubicazione eccedenze delle CSC per i contaminanti nelle acque di impregnazione.mxd\n",
      "Allegato A.13.11 - Planimetria ubicazione eccedenze delle CSC per i contaminanti nelle acque di impregnazione.mxd\n",
      "Allegato A.13.12 - Planimetria ubicazione eccedenze delle CSC per i contaminanti nelle acque di impregnazione.mxd\n",
      "Allegato A.13.13 - Planimetria ubicazione eccedenze delle CSC per i contaminanti nelle acque di impregnazione.mxd\n",
      "Allegato A.13.14 - Planimetria ubicazione eccedenze delle CSC per i contaminanti nelle acque di impregnazione.mxd\n",
      "Allegato A.13.15 - Planimetria ubicazione eccedenze delle CSC per i contaminanti nelle acque di impregnazione.mxd\n",
      "Allegato A.13.16 - Planimetria ubicazione eccedenze delle CSC per i contaminanti nelle acque di impregnazione.mxd\n",
      "Allegato A.13.17 - Planimetria ubicazione eccedenze delle CSC per i contaminanti nelle acque di impregnazione.mxd\n",
      "Allegato A.14.1A - Planimetria con ubicazione analisi parametri sito-specifici.mxd\n",
      "Allegato A.14.1B - Planimetria con ubicazione analisi parametri sito-specifici.mxd\n",
      "Allegato A.14.2A - Planimetria con ubicazione analisi parametri sito-specifici.mxd\n",
      "Allegato A.14.2B - Planimetria con ubicazione analisi parametri sito-specifici.mxd\n",
      "Allegato A.14.3A - Planimetria con ubicazione analisi parametri sito-specifici.mxd\n",
      "Allegato A.14.3B - Planimetria con ubicazione analisi parametri sito-specifici.mxd\n",
      "Allegato A.14.4 - Planimetria con ubicazione analisi parametri sito-specifici.mxd\n",
      "Allegato A.14.5 - Planimetria con ubicazione analisi parametri sito-specifici.mxd\n",
      "Allegato A.14.6 - Planimetria con ubicazione analisi parametri sito-specifici.mxd\n",
      "Allegato A.15 - Planimetria ubicazione flux chamber.mxd\n"
     ]
    }
   ],
   "source": [
    "import arcpy, os\n",
    "folderPaths = [\n",
    "    # r\"C:\\Users\\GIORGIO.CAIZZI\\AECOM\\60678625ER Marghera - AdR VP e NP - 09_Temp\\00 - GIS\\02 - Tavole Modello Concettuale\\Nuovo petrolchimico\",\n",
    "    r\"C:\\Users\\GIORGIO.CAIZZI\\AECOM\\60678625ER Marghera - AdR VP e NP - 09_Temp\\00 - GIS\\02 - Tavole Modello Concettuale\\Vecchio petrolchimico\",\n",
    "    # r\"C:\\Users\\GIORGIO.CAIZZI\\AECOM\\60678625ER Marghera - AdR VP e NP - 09_Temp\\00 - GIS\\02a - Carte Rischio\\VP\",\n",
    "    # r\"C:\\Users\\GIORGIO.CAIZZI\\AECOM\\60678625ER Marghera - AdR VP e NP - 09_Temp\\00 - GIS\\02a - Carte Rischio\\NP\",\n",
    "\n",
    "]\n",
    "\n",
    "for folderPath in folderPaths:\n",
    "    print(\"--------{}--------\".format(folderPath))\n",
    "    for filename in os.listdir(folderPath):\n",
    "        fullpath = os.path.join(folderPath, filename)\n",
    "        if os.path.isfile(fullpath):\n",
    "            basename, extension = os.path.splitext(fullpath)\n",
    "            if extension.lower() == \".mxd\":\n",
    "                filename=filename.decode(\"latin8\")\n",
    "                mxd = arcpy.mapping.MapDocument(fullpath)\n",
    "                arcpy.mapping.ExportToPDF(mxd, os.path.join(folderPath, filename[:-4]+\".pdf\"))\n",
    "                print(filename)\n",
    "                del mxd"
   ]
  }
 ],
 "metadata": {
  "kernelspec": {
   "display_name": "Python 3",
   "language": "python",
   "name": "python3"
  },
  "language_info": {
   "codemirror_mode": {
    "name": "ipython",
    "version": 2
   },
   "file_extension": ".py",
   "mimetype": "text/x-python",
   "name": "python",
   "nbconvert_exporter": "python",
   "pygments_lexer": "ipython2",
   "version": "2.7.18"
  },
  "orig_nbformat": 4
 },
 "nbformat": 4,
 "nbformat_minor": 2
}
