{
 "cells": [
  {
   "cell_type": "markdown",
   "metadata": {},
   "source": [
    "## Project\n",
    "\n",
    "The project in ArcMap is intended as a folder where data (geodatabase) and maps are stored."
   ]
  },
  {
   "cell_type": "code",
   "execution_count": 1,
   "metadata": {},
   "outputs": [],
   "source": [
    "from pyarcgis.core import Project"
   ]
  },
  {
   "cell_type": "code",
   "execution_count": 2,
   "metadata": {},
   "outputs": [],
   "source": [
    "root = r\"C:\\Users\\GIORGIO.CAIZZI\\AECOM\\60707617ER1 Gela Sup spec Bonifica falda - 09_Temp\\0 - GIS e DB\\Tavole\"\n",
    "p = Project(\n",
    "    root\n",
    "    )"
   ]
  },
  {
   "cell_type": "code",
   "execution_count": 3,
   "metadata": {},
   "outputs": [
    {
     "data": {
      "text/plain": [
       "['C:\\\\Users\\\\GIORGIO.CAIZZI\\\\AECOM\\\\60707617ER1 Gela Sup spec Bonifica falda - 09_Temp\\\\0 - GIS e DB\\\\Tavole\\\\Tavola 01 - Rete di monitoraggio.mxd',\n",
       " 'C:\\\\Users\\\\GIORGIO.CAIZZI\\\\AECOM\\\\60707617ER1 Gela Sup spec Bonifica falda - 09_Temp\\\\0 - GIS e DB\\\\Tavole\\\\Tavola 01 - Rete di monitoraggio_v2.mxd',\n",
       " 'C:\\\\Users\\\\GIORGIO.CAIZZI\\\\AECOM\\\\60707617ER1 Gela Sup spec Bonifica falda - 09_Temp\\\\0 - GIS e DB\\\\Tavole\\\\Tavola 02 - Arsenico.mxd',\n",
       " 'C:\\\\Users\\\\GIORGIO.CAIZZI\\\\AECOM\\\\60707617ER1 Gela Sup spec Bonifica falda - 09_Temp\\\\0 - GIS e DB\\\\Tavole\\\\Tavola 03 - Sommatoria clorurati.mxd',\n",
       " 'C:\\\\Users\\\\GIORGIO.CAIZZI\\\\AECOM\\\\60707617ER1 Gela Sup spec Bonifica falda - 09_Temp\\\\0 - GIS e DB\\\\Tavole\\\\Tavola 04 - Benzene.mxd',\n",
       " 'C:\\\\Users\\\\GIORGIO.CAIZZI\\\\AECOM\\\\60707617ER1 Gela Sup spec Bonifica falda - 09_Temp\\\\0 - GIS e DB\\\\Tavole\\\\Tavola 05 - Idrocarburi totali.mxd']"
      ]
     },
     "execution_count": 3,
     "metadata": {},
     "output_type": "execute_result"
    }
   ],
   "source": [
    "p.get_maps()"
   ]
  },
  {
   "cell_type": "code",
   "execution_count": 4,
   "metadata": {},
   "outputs": [
    {
     "name": "stdout",
     "output_type": "stream",
     "text": [
      "Exporting map: C:\\Users\\GIORGIO.CAIZZI\\AECOM\\60707617ER1 Gela Sup spec Bonifica falda - 09_Temp\\0 - GIS e DB\\Tavole\\Tavola 01 - Rete di monitoraggio.mxd\n",
      "Map exported!\n",
      "Exporting map: C:\\Users\\GIORGIO.CAIZZI\\AECOM\\60707617ER1 Gela Sup spec Bonifica falda - 09_Temp\\0 - GIS e DB\\Tavole\\Tavola 01 - Rete di monitoraggio_v2.mxd\n",
      "Map exported!\n",
      "Exporting map: C:\\Users\\GIORGIO.CAIZZI\\AECOM\\60707617ER1 Gela Sup spec Bonifica falda - 09_Temp\\0 - GIS e DB\\Tavole\\Tavola 02 - Arsenico.mxd\n",
      "Map exported!\n",
      "Exporting map: C:\\Users\\GIORGIO.CAIZZI\\AECOM\\60707617ER1 Gela Sup spec Bonifica falda - 09_Temp\\0 - GIS e DB\\Tavole\\Tavola 03 - Sommatoria clorurati.mxd\n",
      "Map exported!\n",
      "Exporting map: C:\\Users\\GIORGIO.CAIZZI\\AECOM\\60707617ER1 Gela Sup spec Bonifica falda - 09_Temp\\0 - GIS e DB\\Tavole\\Tavola 04 - Benzene.mxd\n",
      "Map exported!\n",
      "Exporting map: C:\\Users\\GIORGIO.CAIZZI\\AECOM\\60707617ER1 Gela Sup spec Bonifica falda - 09_Temp\\0 - GIS e DB\\Tavole\\Tavola 05 - Idrocarburi totali.mxd\n",
      "Map exported!\n"
     ]
    }
   ],
   "source": [
    "p.export_maps(p.get_maps(),verbose=True)"
   ]
  }
 ],
 "metadata": {
  "kernelspec": {
   "display_name": "aecom",
   "language": "python",
   "name": "python3"
  },
  "language_info": {
   "codemirror_mode": {
    "name": "ipython",
    "version": 2
   },
   "file_extension": ".py",
   "mimetype": "text/x-python",
   "name": "python",
   "nbconvert_exporter": "python",
   "pygments_lexer": "ipython2",
   "version": "2.7.18.4"
  }
 },
 "nbformat": 4,
 "nbformat_minor": 2
}
